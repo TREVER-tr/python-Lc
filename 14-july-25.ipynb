{
 "cells": [
  {
   "cell_type": "code",
   "execution_count": 1,
   "id": "5688e30c-e782-4bc6-9b99-a2fdaea52415",
   "metadata": {},
   "outputs": [
    {
     "name": "stdout",
     "output_type": "stream",
     "text": [
      "enter the element of 1: 1\n",
      "enter the element of 2: 2\n",
      "enter the element of 3: 3\n",
      "enter the element of 4: 4\n",
      "enter the element of 5: 5\n",
      "enter the element of 6: 6\n",
      "enter the element of 7: 7\n",
      "enter the element of 8: 8\n",
      "enter the element of 9: 9\n",
      "enter the element of 10: 0\n"
     ]
    },
    {
     "name": "stdout",
     "output_type": "stream",
     "text": [
      "[1, 2, 3, 4, 5, 6, 7, 8, 9, 0]\n"
     ]
    }
   ],
   "source": [
    "# list comprehesssion and  input version \n",
    "''' manual input considerations'''\n",
    "# step by step  inout of Lc\n",
    "nums=[int(input(f\"enter the element of {i+1}:\"))  \n",
    "      for i in range(10)]\n",
    "print(nums)"
   ]
  },
  {
   "cell_type": "code",
   "execution_count": 2,
   "id": "86d63135-508e-46c8-b169-b69a8369b067",
   "metadata": {},
   "outputs": [
    {
     "name": "stdout",
     "output_type": "stream",
     "text": [
      ": enter 5 numbers with space: 1 2 3 4 5 6 \n"
     ]
    },
    {
     "name": "stdout",
     "output_type": "stream",
     "text": [
      "[1, 2, 3, 4, 5]\n"
     ]
    }
   ],
   "source": [
    "#list cokmprehgesion with another type \n",
    "n=[int(x) for x in input(\": enter 5 numbers with space:\").split()[:5]]\n",
    "print(n)"
   ]
  },
  {
   "cell_type": "code",
   "execution_count": 3,
   "id": "be7ca4e8-edc0-4fbd-b8f1-3d860ec4960f",
   "metadata": {},
   "outputs": [
    {
     "name": "stdout",
     "output_type": "stream",
     "text": [
      " enter the size of the table: 10\n"
     ]
    },
    {
     "name": "stdout",
     "output_type": "stream",
     "text": [
      "Tables of  math :\n",
      "[2, 3, 4, 5, 6, 7, 8, 9, 10, 11]\n",
      "[3, 4, 5, 6, 7, 8, 9, 10, 11, 12]\n",
      "[4, 5, 6, 7, 8, 9, 10, 11, 12, 13]\n",
      "[5, 6, 7, 8, 9, 10, 11, 12, 13, 14]\n",
      "[6, 7, 8, 9, 10, 11, 12, 13, 14, 15]\n",
      "[7, 8, 9, 10, 11, 12, 13, 14, 15, 16]\n",
      "[8, 9, 10, 11, 12, 13, 14, 15, 16, 17]\n",
      "[9, 10, 11, 12, 13, 14, 15, 16, 17, 18]\n",
      "[10, 11, 12, 13, 14, 15, 16, 17, 18, 19]\n",
      "[11, 12, 13, 14, 15, 16, 17, 18, 19, 20]\n"
     ]
    }
   ],
   "source": [
    "# nested list comprehension operation  within a singlree list compression\n",
    "n=int(input(\" enter the size of the table:\"))\n",
    "table =[[i+j for j in range(1,n+1)] for i in range  (1,n+1)]\n",
    "print(\"Tables of  math :\")\n",
    "for row in table:\n",
    "    print(row)"
   ]
  },
  {
   "cell_type": "code",
   "execution_count": 6,
   "id": "44528396-7c47-4a99-ab63-86a03629ba64",
   "metadata": {},
   "outputs": [
    {
     "name": "stdout",
     "output_type": "stream",
     "text": [
      " enter the number size: 16\n"
     ]
    },
    {
     "ename": "TypeError",
     "evalue": "Kernel.raw_input() takes from 1 to 2 positional arguments but 4 were given",
     "output_type": "error",
     "traceback": [
      "\u001b[1;31m---------------------------------------------------------------------------\u001b[0m",
      "\u001b[1;31mTypeError\u001b[0m                                 Traceback (most recent call last)",
      "Cell \u001b[1;32mIn[6], line 3\u001b[0m\n\u001b[0;32m      1\u001b[0m \u001b[38;5;66;03m# create a nxn matrix with manual input  numbers by seperated  with spaces  print all the rows omly   in list compression \u001b[39;00m\n\u001b[0;32m      2\u001b[0m n\u001b[38;5;241m=\u001b[39m\u001b[38;5;28mint\u001b[39m(\u001b[38;5;28minput\u001b[39m(\u001b[38;5;124m\"\u001b[39m\u001b[38;5;124m enter the number size:\u001b[39m\u001b[38;5;124m\"\u001b[39m))\n\u001b[1;32m----> 3\u001b[0m nums\u001b[38;5;241m=\u001b[39m[\u001b[38;5;28mint\u001b[39m(n) \u001b[38;5;28;01mfor\u001b[39;00m x \u001b[38;5;129;01min\u001b[39;00m \u001b[38;5;28minput\u001b[39m(\u001b[38;5;124m\"\u001b[39m\u001b[38;5;124menter\u001b[39m\u001b[38;5;124m\"\u001b[39m,n\u001b[38;5;241m*\u001b[39mn ,\u001b[38;5;124m\"\u001b[39m\u001b[38;5;124mnumbers with spaces\u001b[39m\u001b[38;5;124m\"\u001b[39m)\u001b[38;5;241m.\u001b[39msplit() [:\u001b[38;5;241m16\u001b[39m]]\n\u001b[0;32m      4\u001b[0m matrix\u001b[38;5;241m=\u001b[39m[[nums[i\u001b[38;5;241m*\u001b[39m\u001b[38;5;241m4\u001b[39m\u001b[38;5;241m+\u001b[39mj] \u001b[38;5;28;01mfor\u001b[39;00m j \u001b[38;5;129;01min\u001b[39;00m \u001b[38;5;28mrange\u001b[39m(n\u001b[38;5;241m+\u001b[39m\u001b[38;5;241m1\u001b[39m)] \u001b[38;5;28;01mfor\u001b[39;00m i \u001b[38;5;129;01min\u001b[39;00m  ranger(n\u001b[38;5;241m+\u001b[39m\u001b[38;5;241m1\u001b[39m)]\n\u001b[0;32m      5\u001b[0m \u001b[38;5;28mprint\u001b[39m(\u001b[38;5;124mf\u001b[39m\u001b[38;5;124m\"\u001b[39m\u001b[38;5;124m matrix of \u001b[39m\u001b[38;5;132;01m{\u001b[39;00mn\u001b[38;5;241m*\u001b[39mn\u001b[38;5;132;01m}\u001b[39;00m\u001b[38;5;124m:\u001b[39m\u001b[38;5;124m\"\u001b[39m,matrix)\n",
      "\u001b[1;31mTypeError\u001b[0m: Kernel.raw_input() takes from 1 to 2 positional arguments but 4 were given"
     ]
    }
   ],
   "source": [
    "# create a nxn matrix with manual input  numbers by seperated  with spaces  print all the rows omly   in list compression \n",
    "n=int(input(\" enter the number size:\"))\n",
    "nums=[int(n) for x in input(\"enter\",n*n ,\"numbers with spaces\").split() [:16]]\n",
    "matrix=[[nums[i*4+j] for j in range(n+1)] for i in  ranger(n+1)]\n",
    "print(f\" matrix of {n*n}:\",matrix)\n",
    "for rows in matrix:\n",
    "    print(rows)"
   ]
  },
  {
   "cell_type": "code",
   "execution_count": 50,
   "id": "b2fe95ee-2fa7-420c-802b-5f5db500abc0",
   "metadata": {},
   "outputs": [
    {
     "name": "stdout",
     "output_type": "stream",
     "text": [
      " enterr the size nxn: 4\n",
      "enter the {n} numbers with spaces: 1 2 3 4 5 6 7 8 9 10 11 12 13 14 15 16\n"
     ]
    },
    {
     "name": "stdout",
     "output_type": "stream",
     "text": [
      "[1, 2, 3, 4]\n",
      "[5, 6, 7, 8]\n",
      "[9, 10, 11, 12]\n",
      "[13, 14, 15, 16]\n"
     ]
    }
   ],
   "source": [
    "num =int(input(\" enterr the size nxn:\"))\n",
    "n=input(\"enter the {n} numbers with spaces:\").split()\n",
    "if len(n)!=16:\n",
    "    print(\" the exactly 16 elements:\")\n",
    "else:\n",
    "    numbers=[int(x) for x in n]\n",
    "    matrix=[[numbers[i*4+j]for j in range(4)] for i in range(4)]\n",
    "for rows in matrix:\n",
    "    print(rows)"
   ]
  },
  {
   "cell_type": "code",
   "execution_count": 48,
   "id": "1186bb97-b082-4942-9b9f-721a2d335229",
   "metadata": {},
   "outputs": [
    {
     "name": "stdout",
     "output_type": "stream",
     "text": [
      " enter the size: 16\n",
      "enter the {num} numbers with spaces: 1 2 3 4 5 6 7 8 9 10 11 12 13 14 15 16\n"
     ]
    },
    {
     "name": "stdout",
     "output_type": "stream",
     "text": [
      "[1, 2, 3, 4]\n",
      "[5, 6, 7, 8]\n",
      "[9, 10, 11, 12]\n",
      "[13, 14, 15, 16]\n",
      "[1, 5, 9, 13]\n",
      "[2, 6, 10, 14]\n",
      "[3, 7, 11, 15]\n",
      "[4, 8, 12, 16]\n"
     ]
    }
   ],
   "source": [
    "# transpose  of given matrix \n",
    "num =int(input(\" enter the size:\"))\n",
    "n=input(\"enter the {num} numbers with spaces:\").split()\n",
    "if len(n)!=16:\n",
    "    print(\" the exactly 16 elements:\")\n",
    "else:\n",
    "    numbers=[int(x) for x in n]\n",
    "    matrix=[[numbers[i*4+j] for j in range(4)] for i in range(4)]\n",
    "    transpose=[[matrix[j][i] for j in range(4)] for i in range(4)]   \n",
    "for rows in matrix:\n",
    "    print(rows)\n",
    "for row in transpose:\n",
    "    print(row)"
   ]
  },
  {
   "cell_type": "code",
   "execution_count": 36,
   "id": "88923455-5603-4dcd-bb5e-cf18e5b42286",
   "metadata": {},
   "outputs": [
    {
     "name": "stdout",
     "output_type": "stream",
     "text": [
      " enter the size: 3\n",
      "enter the numbers: 1 2 3 4 5 6 7 8 9\n"
     ]
    },
    {
     "name": "stdout",
     "output_type": "stream",
     "text": [
      "[1, 2, 3, 4, 5, 6, 7, 8, 9]\n"
     ]
    }
   ],
   "source": [
    "# \n",
    "n=int(input(\" enter the size:\"))\n",
    "num=[int(x) for x in input(\"enter the numbers:\").split()[:n*n]]\n",
    "matrix=[[num[i*3+j] for j in range (n)] for  i in range(n)]\n",
    "flat=[k for  r in matrix  for k in r ]\n",
    "print(flat)\n"
   ]
  },
  {
   "cell_type": "code",
   "execution_count": 15,
   "id": "f75a0b18-b800-43e3-9204-aed34cd29b5f",
   "metadata": {},
   "outputs": [
    {
     "name": "stdout",
     "output_type": "stream",
     "text": [
      " enter size of elements nXn: 3\n",
      "enter the numbers: 1 2 3 4 5 6 7 8 9\n"
     ]
    },
    {
     "name": "stdout",
     "output_type": "stream",
     "text": [
      "[[1, 2, 3], [4, 5, 6], [7, 8, 9]]\n",
      "[[1, 4, 9], [16, 25, 36], [49, 64, 81]]\n"
     ]
    }
   ],
   "source": [
    "# write a code  to consider a Lc :  to calculate square of 16 as nxn matrix and print the list of square  in each row\n",
    "'''3=9 values 1 2 3 4 5 6 7 8 9\n",
    "[1 2 3]     [1 4 9]\n",
    "[4 5 6]     [16 25 36]\n",
    "[7 8 9]     [49 64 81]'''\n",
    "n=int(input(\" enter size of elements nXn:\"))\n",
    "num=[int(x) for x in input(\"enter the numbers:\").split()[:n*n]]\n",
    "matrix=[[num[i*n+j] for j in range(n)] for i in range(n)]\n",
    "square=[[matrix[i][j]**2 for j in range (n)] for i in range(n)]\n",
    "print(matrix)\n",
    "print(square)"
   ]
  },
  {
   "cell_type": "code",
   "execution_count": 17,
   "id": "6d30dbf8-01de-4672-9623-3dadf334213e",
   "metadata": {},
   "outputs": [
    {
     "name": "stdout",
     "output_type": "stream",
     "text": [
      " enter size of elements nXn: 3\n",
      "enter the numbers: 1 2 3 4 5 6 7 8 9\n"
     ]
    },
    {
     "name": "stdout",
     "output_type": "stream",
     "text": [
      "[[1, 4, 9], [16, 25, 36], [49, 64, 81]]\n",
      "[1, 4, 9]\n",
      "[16, 25, 36]\n",
      "[49, 64, 81]\n"
     ]
    }
   ],
   "source": [
    "#\n",
    "n=int(input(\" enter size of elements nXn:\"))\n",
    "num=[int(x) for x in input(\"enter the numbers:\").split()[:n*n]]\n",
    "matrix=[[num[i*n+j]**2 for j in range(n)] for i in range(n)]\n",
    "print(matrix)\n",
    "for k in matrix:\n",
    "    print(k)"
   ]
  },
  {
   "cell_type": "code",
   "execution_count": 21,
   "id": "7615a1d8-0178-46b5-bf88-4643dfecb5af",
   "metadata": {},
   "outputs": [
    {
     "name": "stdout",
     "output_type": "stream",
     "text": [
      " enter size of elements nXn: 3\n",
      "enter the numbers: 1 2 3 4 5 6 7 8 9\n"
     ]
    },
    {
     "name": "stdout",
     "output_type": "stream",
     "text": [
      "[[0, 2, 0], [4, 0, 6], [0, 8, 0]]\n",
      "[0, 2, 0]\n",
      "[4, 0, 6]\n",
      "[0, 8, 0]\n"
     ]
    }
   ],
   "source": [
    "n=int(input(\" enter size of elements nXn:\"))\n",
    "num=[int(x) for x in input(\"enter the numbers:\").split()[:n*n]]\n",
    "matrix=[[num[i*n+j]  if num[i*n+j]%2==0 else 0 for j in range(n)] for i in range(n)]\n",
    "print(matrix)\n",
    "for k in matrix:\n",
    "    print(k)"
   ]
  },
  {
   "cell_type": "code",
   "execution_count": 23,
   "id": "5542b0d4-086b-4ff0-918d-43455f8b80b6",
   "metadata": {},
   "outputs": [
    {
     "name": "stdout",
     "output_type": "stream",
     "text": [
      " enter size of elements nXn: 3\n",
      "enter the numbers: 1 2 3 4 5 6 7 8 9\n"
     ]
    },
    {
     "name": "stdout",
     "output_type": "stream",
     "text": [
      "[[1, 0, 3], [0, 5, 0], [7, 0, 9]]\n",
      "[1, 0, 3]\n",
      "[0, 5, 0]\n",
      "[7, 0, 9]\n"
     ]
    }
   ],
   "source": [
    "n=int(input(\" enter size of elements nXn:\"))\n",
    "num=[int(x) for x in input(\"enter the numbers:\").split()[:n*n]]\n",
    "matrix=[[num[i*n+j]  if num[i*n+j]%2!=0 else 0 for j in range(n)] for i in range(n)]\n",
    "print(matrix)\n",
    "for k in matrix:\n",
    "    print(k)"
   ]
  },
  {
   "cell_type": "code",
   "execution_count": null,
   "id": "a98919b4-3c53-4d24-9464-25cd86bbc7f2",
   "metadata": {},
   "outputs": [],
   "source": []
  }
 ],
 "metadata": {
  "kernelspec": {
   "display_name": "Python 3",
   "language": "python",
   "name": "python3"
  },
  "language_info": {
   "codemirror_mode": {
    "name": "ipython",
    "version": 3
   },
   "file_extension": ".py",
   "mimetype": "text/x-python",
   "name": "python",
   "nbconvert_exporter": "python",
   "pygments_lexer": "ipython3",
   "version": "3.11.8"
  }
 },
 "nbformat": 4,
 "nbformat_minor": 5
}
