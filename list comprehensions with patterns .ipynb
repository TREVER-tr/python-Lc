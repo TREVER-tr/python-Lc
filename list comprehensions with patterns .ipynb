{
 "cells": [
  {
   "cell_type": "code",
   "execution_count": null,
   "id": "df1d96b1-49af-45a4-9d4b-0c5418887143",
   "metadata": {},
   "outputs": [
    {
     "name": "stdout",
     "output_type": "stream",
     "text": [
      "                                  2025\n",
      "\n",
      "      January                   February                   March\n",
      "Mo Tu We Th Fr Sa Su      Mo Tu We Th Fr Sa Su      Mo Tu We Th Fr Sa Su\n",
      "       1  2  3  4  5                      1  2                      1  2\n",
      " 6  7  8  9 10 11 12       3  4  5  6  7  8  9       3  4  5  6  7  8  9\n",
      "13 14 15 16 17 18 19      10 11 12 13 14 15 16      10 11 12 13 14 15 16\n",
      "20 21 22 23 24 25 26      17 18 19 20 21 22 23      17 18 19 20 21 22 23\n",
      "27 28 29 30 31            24 25 26 27 28            24 25 26 27 28 29 30\n",
      "                                                    31\n",
      "\n",
      "       April                      May                       June\n",
      "Mo Tu We Th Fr Sa Su      Mo Tu We Th Fr Sa Su      Mo Tu We Th Fr Sa Su\n",
      "    1  2  3  4  5  6                1  2  3  4                         1\n",
      " 7  8  9 10 11 12 13       5  6  7  8  9 10 11       2  3  4  5  6  7  8\n",
      "14 15 16 17 18 19 20      12 13 14 15 16 17 18       9 10 11 12 13 14 15\n",
      "21 22 23 24 25 26 27      19 20 21 22 23 24 25      16 17 18 19 20 21 22\n",
      "28 29 30                  26 27 28 29 30 31         23 24 25 26 27 28 29\n",
      "                                                    30\n",
      "\n",
      "        July                     August                  September\n",
      "Mo Tu We Th Fr Sa Su      Mo Tu We Th Fr Sa Su      Mo Tu We Th Fr Sa Su\n",
      "    1  2  3  4  5  6                   1  2  3       1  2  3  4  5  6  7\n",
      " 7  8  9 10 11 12 13       4  5  6  7  8  9 10       8  9 10 11 12 13 14\n",
      "14 15 16 17 18 19 20      11 12 13 14 15 16 17      15 16 17 18 19 20 21\n",
      "21 22 23 24 25 26 27      18 19 20 21 22 23 24      22 23 24 25 26 27 28\n",
      "28 29 30 31               25 26 27 28 29 30 31      29 30\n",
      "\n",
      "      October                   November                  December\n",
      "Mo Tu We Th Fr Sa Su      Mo Tu We Th Fr Sa Su      Mo Tu We Th Fr Sa Su\n",
      "       1  2  3  4  5                      1  2       1  2  3  4  5  6  7\n",
      " 6  7  8  9 10 11 12       3  4  5  6  7  8  9       8  9 10 11 12 13 14\n",
      "13 14 15 16 17 18 19      10 11 12 13 14 15 16      15 16 17 18 19 20 21\n",
      "20 21 22 23 24 25 26      17 18 19 20 21 22 23      22 23 24 25 26 27 28\n",
      "27 28 29 30 31            24 25 26 27 28 29 30      29 30 31\n"
     ]
    }
   ],
   "source": [
    "# full calendar\n",
    "import calendar \n",
    "calendar.prcal(2025)"
   ]
  },
  {
   "cell_type": "code",
   "execution_count": null,
   "id": "32150e35-6da8-4100-b0a0-44401503dba1",
   "metadata": {},
   "outputs": [
    {
     "name": "stdout",
     "output_type": "stream",
     "text": [
      "enter the no o0f rows: 5\n"
     ]
    },
    {
     "name": "stdout",
     "output_type": "stream",
     "text": [
      "['*']\n",
      "['*', '*']\n",
      "['*', '*', '*']\n",
      "['*', '*', '*', '*']\n",
      "['*', '*', '*', '*', '*']\n"
     ]
    }
   ],
   "source": [
    "# list comphression by using for loop \n",
    "rows=int(input(\"enter the no o0f rows:\"))\n",
    "pattern=[(['*' for _  in range(i)])for i in range(1,rows+1)]\n",
    "for line in pattern :\n",
    "    print(line)"
   ]
  },
  {
   "cell_type": "code",
   "execution_count": null,
   "id": "d0fb14c8-a67e-40ec-83fe-ea3c96ab7951",
   "metadata": {},
   "outputs": [
    {
     "name": "stdout",
     "output_type": "stream",
     "text": [
      "enter the no o0f rows: 5\n"
     ]
    },
    {
     "name": "stdout",
     "output_type": "stream",
     "text": [
      "*\n",
      "**\n",
      "***\n",
      "****\n",
      "*****\n"
     ]
    }
   ],
   "source": [
    "# pattern in normal form\n",
    "rows=int(input(\"enter the no o0f rows:\"))\n",
    "pattern=[''.join(['*' for _  in range(i)])for i in range(1,rows+1)]\n",
    "for line in pattern :\n",
    "    print(line)"
   ]
  },
  {
   "cell_type": "code",
   "execution_count": null,
   "id": "02f28e18-6bdd-4479-a861-e6fac48b253b",
   "metadata": {},
   "outputs": [
    {
     "name": "stdout",
     "output_type": "stream",
     "text": [
      "enter the no o0f rows: 26\n"
     ]
    },
    {
     "name": "stdout",
     "output_type": "stream",
     "text": [
      "1\n",
      "12\n",
      "123\n",
      "1234\n",
      "12345\n",
      "123456\n",
      "1234567\n",
      "12345678\n",
      "123456789\n",
      "12345678910\n",
      "1234567891011\n",
      "123456789101112\n",
      "12345678910111213\n",
      "1234567891011121314\n",
      "123456789101112131415\n",
      "12345678910111213141516\n",
      "1234567891011121314151617\n",
      "123456789101112131415161718\n",
      "12345678910111213141516171819\n",
      "1234567891011121314151617181920\n",
      "123456789101112131415161718192021\n",
      "12345678910111213141516171819202122\n",
      "1234567891011121314151617181920212223\n",
      "123456789101112131415161718192021222324\n",
      "12345678910111213141516171819202122232425\n",
      "1234567891011121314151617181920212223242526\n"
     ]
    }
   ],
   "source": [
    "# numbers in right angle triangle\n",
    "rows=int(input(\"enter the no o0f rows:\"))\n",
    "pattern=[''.join([str(num) for num in range(1,i+1)])for i in range(1,rows+1)]\n",
    "for line in pattern :\n",
    "    print(line)"
   ]
  },
  {
   "cell_type": "code",
   "execution_count": null,
   "id": "69bf4447-93bd-4b6a-bd47-6180b0be8b49",
   "metadata": {},
   "outputs": [
    {
     "name": "stdout",
     "output_type": "stream",
     "text": [
      "enter the no o0f rows: 26\n"
     ]
    },
    {
     "name": "stdout",
     "output_type": "stream",
     "text": [
      "A\n",
      "AB\n",
      "ABC\n",
      "ABCD\n",
      "ABCDE\n",
      "ABCDEF\n",
      "ABCDEFG\n",
      "ABCDEFGH\n",
      "ABCDEFGHI\n",
      "ABCDEFGHIJ\n",
      "ABCDEFGHIJK\n",
      "ABCDEFGHIJKL\n",
      "ABCDEFGHIJKLM\n",
      "ABCDEFGHIJKLMN\n",
      "ABCDEFGHIJKLMNO\n",
      "ABCDEFGHIJKLMNOP\n",
      "ABCDEFGHIJKLMNOPQ\n",
      "ABCDEFGHIJKLMNOPQR\n",
      "ABCDEFGHIJKLMNOPQRS\n",
      "ABCDEFGHIJKLMNOPQRST\n",
      "ABCDEFGHIJKLMNOPQRSTU\n",
      "ABCDEFGHIJKLMNOPQRSTUV\n",
      "ABCDEFGHIJKLMNOPQRSTUVW\n",
      "ABCDEFGHIJKLMNOPQRSTUVWX\n",
      "ABCDEFGHIJKLMNOPQRSTUVWXY\n",
      "ABCDEFGHIJKLMNOPQRSTUVWXYZ\n"
     ]
    }
   ],
   "source": [
    "rows=int(input(\"enter the no o0f rows:\"))\n",
    "pattern=[''.join([chr(65+j) for j in range(i)])for i in range(1,rows+1)]\n",
    "for line in pattern :\n",
    "    print(line)"
   ]
  },
  {
   "cell_type": "code",
   "execution_count": null,
   "id": "391051a9-6364-443c-932c-abafde50ad75",
   "metadata": {},
   "outputs": [
    {
     "name": "stdout",
     "output_type": "stream",
     "text": [
      "enter the no o0f rows: 26\n"
     ]
    },
    {
     "name": "stdout",
     "output_type": "stream",
     "text": [
      "a\n",
      "ab\n",
      "abc\n",
      "abcd\n",
      "abcde\n",
      "abcdef\n",
      "abcdefg\n",
      "abcdefgh\n",
      "abcdefghi\n",
      "abcdefghij\n",
      "abcdefghijk\n",
      "abcdefghijkl\n",
      "abcdefghijklm\n",
      "abcdefghijklmn\n",
      "abcdefghijklmno\n",
      "abcdefghijklmnop\n",
      "abcdefghijklmnopq\n",
      "abcdefghijklmnopqr\n",
      "abcdefghijklmnopqrs\n",
      "abcdefghijklmnopqrst\n",
      "abcdefghijklmnopqrstu\n",
      "abcdefghijklmnopqrstuv\n",
      "abcdefghijklmnopqrstuvw\n",
      "abcdefghijklmnopqrstuvwx\n",
      "abcdefghijklmnopqrstuvwxy\n",
      "abcdefghijklmnopqrstuvwxyz\n"
     ]
    }
   ],
   "source": [
    "rows=int(input(\"enter the no o0f rows:\"))\n",
    "pattern=[''.join([chr(97+j) for j in range(i)])for i in range(1,rows+1)]\n",
    "for line in pattern :\n",
    "    print(line)"
   ]
  },
  {
   "cell_type": "code",
   "execution_count": null,
   "id": "488c424a-ff9c-429d-9342-5d811c63ff47",
   "metadata": {},
   "outputs": [
    {
     "name": "stdout",
     "output_type": "stream",
     "text": [
      "enter the no o0f rows: 5\n"
     ]
    },
    {
     "name": "stdout",
     "output_type": "stream",
     "text": [
      "    *\n",
      "   ***\n",
      "  *****\n",
      " *******\n",
      "*********\n"
     ]
    }
   ],
   "source": [
    "# pyramid pattern using list comprehensions \n",
    "rows=int(input(\"enter the no o0f rows:\"))\n",
    "pattern=[(' '*(rows-i)+'*' *(2*i-1))for i in range(1,rows+1)]\n",
    "for line in pattern :\n",
    "    print(line)"
   ]
  },
  {
   "cell_type": "code",
   "execution_count": null,
   "id": "c36be1ad-d0c2-4b56-8ff6-ab538fc36056",
   "metadata": {},
   "outputs": [
    {
     "name": "stdout",
     "output_type": "stream",
     "text": [
      "enter the no of rows: 7\n"
     ]
    },
    {
     "name": "stdout",
     "output_type": "stream",
     "text": [
      "1234567\n",
      "123456\n",
      "12345\n",
      "1234\n",
      "123\n",
      "12\n",
      "1\n"
     ]
    }
   ],
   "source": [
    "# miiror image of pattern \n",
    "rows=int(input(\"enter the no of rows:\"))\n",
    "pattern=[''.join([str(num) for num in range(1,rows-i+1)])for i in range(rows)]\n",
    "for line in pattern :\n",
    "    print(line)"
   ]
  },
  {
   "cell_type": "code",
   "execution_count": null,
   "id": "f24c48ba-cee7-45f7-8e08-f63dc61ddcf0",
   "metadata": {},
   "outputs": [
    {
     "name": "stdout",
     "output_type": "stream",
     "text": [
      "enter the no of rows: 5\n"
     ]
    },
    {
     "name": "stdout",
     "output_type": "stream",
     "text": [
      "* * * * * \n",
      "*       * \n",
      "*       * \n",
      "*       * \n",
      "* * * * * \n"
     ]
    }
   ],
   "source": [
    "# list comprehension  using to print hallow\n",
    "n=int(input(\"enter the no of rows:\"))\n",
    "pattern=[['* ' if i==0 or i==n-1 or j==0 or j==n-1 else '  ' for i in range(n)]for j in range(n)]\n",
    "for i in pattern :\n",
    "    print(''.join(i))"
   ]
  },
  {
   "cell_type": "code",
   "execution_count": null,
   "id": "0128cb65-8674-4599-9d4e-fd690b1a5bc7",
   "metadata": {},
   "outputs": [
    {
     "name": "stdout",
     "output_type": "stream",
     "text": [
      " enter rows: 5\n"
     ]
    },
    {
     "name": "stdout",
     "output_type": "stream",
     "text": [
      "     *\n",
      "    * *\n",
      "   *   *\n",
      "  *     *\n",
      " *       *\n",
      "  *     *  \n",
      "   *   *  \n",
      "    * *  \n",
      "     *  \n"
     ]
    }
   ],
   "source": [
    "# rhombus pattern\n",
    "n=int(input(\" enter rows:\"))\n",
    "upper=[' '*(n-i)+''.join ('*' if j==0 or j==2*i else ' ' for j in range(2*i+1)) for i in range (n)]\n",
    "lower=[' '*(i+2)+''.join ('*' if j==0 or j==2*(n-i-2) else ' ' for j in range(2*(n-i)-1)) for i in range (n-1)]\n",
    "for line in upper+lower:\n",
    "    print(line)"
   ]
  },
  {
   "cell_type": "code",
   "execution_count": null,
   "id": "686e905e-0ddb-403d-85c1-cdc4e9ff13e4",
   "metadata": {},
   "outputs": [
    {
     "name": "stdout",
     "output_type": "stream",
     "text": [
      "          g\n",
      "         ga\n",
      "        gan\n",
      "       gane\n",
      "      ganes\n",
      "     ganesh\n",
      "    ganesh \n",
      "   ganesh t\n",
      "  ganesh ta\n",
      " ganesh tat\n",
      "ganesh tata\n",
      " ganesh tat\n",
      "  ganesh ta\n",
      "   ganesh t\n",
      "    ganesh \n",
      "     ganesh\n",
      "      ganes\n",
      "       gane\n",
      "        gan\n",
      "         ga\n",
      "          g\n"
     ]
    }
   ],
   "source": [
    "def rhombus_pattern(name):\n",
    "    n = len(name)\n",
    "    \n",
    "    # Upper part of the rhombus\n",
    "    for i in range(n):\n",
    "        print(\" \" * (n - i - 1) + name[:i + 1])\n",
    "    \n",
    "    # Lower part of the rhombus\n",
    "    for i in range(n - 2, -1, -1):\n",
    "        print(\" \" * (n - i - 1) + name[:i + 1])\n",
    "\n",
    "# Example usage\n",
    "rhombus_pattern(\"ganesh tata\")\n"
   ]
  },
  {
   "cell_type": "code",
   "execution_count": null,
   "id": "9790981c-f402-4449-8573-3597beb3d1d1",
   "metadata": {},
   "outputs": [],
   "source": []
  }
 ],
 "metadata": {
  "kernelspec": {
   "display_name": "Python 3",
   "language": "python",
   "name": "python3"
  },
  "language_info": {
   "codemirror_mode": {
    "name": "ipython",
    "version": 3
   },
   "file_extension": ".py",
   "mimetype": "text/x-python",
   "name": "python",
   "nbconvert_exporter": "python",
   "pygments_lexer": "ipython3",
   "version": "3.11.8"
  }
 },
 "nbformat": 4,
 "nbformat_minor": 5
}
